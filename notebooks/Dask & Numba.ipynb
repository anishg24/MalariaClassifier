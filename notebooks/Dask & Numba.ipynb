{
 "cells": [
  {
   "cell_type": "markdown",
   "metadata": {},
   "source": [
    "# Dask Playground\n",
    "\n",
    "Boy, deep learning has taught me alot, but it will never stop teaching me. 28,000 images can do a lot of damage to your memory. Thankfully someone has created a way to bypass this. Work on this will be done"
   ]
  },
  {
   "cell_type": "code",
   "execution_count": 8,
   "metadata": {},
   "outputs": [],
   "source": [
    "import numpy as np\n",
    "# import numba as nb\n",
    "import pandas as pd\n",
    "from cv2 import imread, resize\n",
    "import os\n",
    "import matplotlib.pyplot as plt\n",
    "from glob import glob\n",
    "\n",
    "# from dask.array.image import imread\n",
    "# from dask import delayed\n",
    "# import dask.dataframe as dd\n",
    "# import dask.array as da\n",
    "# from dask.distributed import Client, progress\n",
    "\n",
    "%matplotlib inline\n",
    "\n",
    "DATA_DIR = os.path.dirname(os.getcwd()) + \"/data/\"\n",
    "INFECTED = os.path.join(DATA_DIR, \"cell_images\", \"Parasitized\", \"C*.png\")\n",
    "NOT_INFECTED = os.path.join(DATA_DIR, \"cell_images\", \"Uninfected\", \"C*.png\")\n",
    "\n",
    "print(\"Setup all imports and constants\")\n",
    "print(DATA_DIR)\n",
    "print(INFECTED)\n",
    "print(NOT_INFECTED)\n",
    "\n",
    "# client = Client(\"tcp://127.0.0.1:36661\")\n",
    "# client.cluster"
   ]
  },
  {
   "cell_type": "code",
   "execution_count": 4,
   "metadata": {},
   "outputs": [],
   "source": [
    "infected_files = glob(INFECTED)\n",
    "uninfected_files = glob(NOT_INFECTED)\n",
    "# infected_arrays = imread(INFECTED)\n",
    "# uninfected_arrays = imread(NOT_INFECTED)\n",
    "total_size = len(infected_files) + len(uninfected_files)\n",
    "\n",
    "infected_labels = np.zeros(total_size)\n",
    "uninfected_labels = np.zeros(total_size)"
   ]
  },
  {
   "cell_type": "code",
   "execution_count": 5,
   "metadata": {},
   "outputs": [],
   "source": [
    "infected_labels[:len(infected_files)] = 1\n",
    "uninfected_labels[len(infected_files):] = 1"
   ]
  },
  {
   "cell_type": "code",
   "execution_count": 11,
   "metadata": {},
   "outputs": [],
   "source": [
    "pdf = pd.DataFrame(zip(infected_labels, \n",
    "                       uninfected_labels, \n",
    "                       infected_files + uninfected_files,\n",
    "                      ), \n",
    "                   columns=[\"Infected\", \"Uninfected\", \"File\"])"
   ]
  },
  {
   "cell_type": "code",
   "execution_count": 13,
   "metadata": {},
   "outputs": [],
   "source": [
    "df = dd.from_pandas(pdf, npartitions=4)"
   ]
  },
  {
   "cell_type": "code",
   "execution_count": 14,
   "metadata": {},
   "outputs": [],
   "source": [
    "infected_array = imread(INFECTED, cv2.imread, lambda x: cv2.resize(x, (128, 128)))\n",
    "uninfected_array = imread(NOT_INFECTED, cv2.imread, lambda x: cv2.resize(x, (128,128)))\n",
    "column = da.concatenate([infected_array, uninfected_array], axis=0)"
   ]
  },
  {
   "cell_type": "code",
   "execution_count": 6,
   "metadata": {},
   "outputs": [],
   "source": [
    "try:\n",
    "    del f\n",
    "except:\n",
    "    pass\n",
    "f = client.compute(column)\n",
    "progress(f)"
   ]
  },
  {
   "cell_type": "code",
   "execution_count": 7,
   "metadata": {},
   "outputs": [],
   "source": [
    "f"
   ]
  },
  {
   "cell_type": "code",
   "execution_count": null,
   "metadata": {},
   "outputs": [],
   "source": []
  }
 ],
 "metadata": {
  "kernelspec": {
   "display_name": "Python 3",
   "language": "python",
   "name": "python3"
  },
  "language_info": {
   "codemirror_mode": {
    "name": "ipython",
    "version": 3
   },
   "file_extension": ".py",
   "mimetype": "text/x-python",
   "name": "python",
   "nbconvert_exporter": "python",
   "pygments_lexer": "ipython3",
   "version": "3.6.9"
  }
 },
 "nbformat": 4,
 "nbformat_minor": 4
}
