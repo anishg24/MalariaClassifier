{
 "cells": [
  {
   "cell_type": "markdown",
   "metadata": {},
   "source": [
    "# Pandas and Numpy\n",
    "\n",
    "To test if this model can do it's job to begin with, we need to *trim* the data a little bit so that it doesn't eat all of our memory."
   ]
  },
  {
   "cell_type": "code",
<<<<<<< HEAD
   "execution_count": 2,
   "metadata": {},
   "outputs": [
    {
     "name": "stdout",
     "output_type": "stream",
     "text": [
      "Setup all imports and constants\n",
      "/home/anish/MalariaClassifier/data/\n",
      "/home/anish/MalariaClassifier/data/cell_images/Parasitized/C*.png\n",
      "/home/anish/MalariaClassifier/data/cell_images/Uninfected/C*.png\n"
     ]
=======
   "execution_count": 1,
   "metadata": {
    "pycharm": {
     "is_executing": false
    }
   },
   "outputs": [
    {
     "traceback": [
      "\u001b[0;31m---------------------------------------------------------------------------\u001b[0m",
      "\u001b[0;31mModuleNotFoundError\u001b[0m                       Traceback (most recent call last)",
      "\u001b[0;32m<ipython-input-1-9213e38c1a19>\u001b[0m in \u001b[0;36m<module>\u001b[0;34m\u001b[0m\n\u001b[1;32m      1\u001b[0m \u001b[0;32mimport\u001b[0m \u001b[0mos\u001b[0m\u001b[0;34m\u001b[0m\u001b[0;34m\u001b[0m\u001b[0m\n\u001b[0;32m----> 2\u001b[0;31m \u001b[0;32mimport\u001b[0m \u001b[0mpandas\u001b[0m \u001b[0;32mas\u001b[0m \u001b[0mpd\u001b[0m\u001b[0;34m\u001b[0m\u001b[0;34m\u001b[0m\u001b[0m\n\u001b[0m\u001b[1;32m      3\u001b[0m \u001b[0;32mimport\u001b[0m \u001b[0mnumpy\u001b[0m \u001b[0;32mas\u001b[0m \u001b[0mnp\u001b[0m\u001b[0;34m\u001b[0m\u001b[0;34m\u001b[0m\u001b[0m\n\u001b[1;32m      4\u001b[0m \u001b[0;32mimport\u001b[0m \u001b[0mmatplotlib\u001b[0m\u001b[0;34m.\u001b[0m\u001b[0mpyplot\u001b[0m \u001b[0;32mas\u001b[0m \u001b[0mplt\u001b[0m\u001b[0;34m\u001b[0m\u001b[0;34m\u001b[0m\u001b[0m\n\u001b[1;32m      5\u001b[0m \u001b[0;32mfrom\u001b[0m \u001b[0mskimage\u001b[0m\u001b[0;34m.\u001b[0m\u001b[0mtransform\u001b[0m \u001b[0;32mimport\u001b[0m \u001b[0mresize\u001b[0m\u001b[0;34m\u001b[0m\u001b[0;34m\u001b[0m\u001b[0m\n",
      "\u001b[0;31mModuleNotFoundError\u001b[0m: No module named 'pandas'"
     ],
     "ename": "ModuleNotFoundError",
     "evalue": "No module named 'pandas'",
     "output_type": "error"
>>>>>>> aa3f00770d835cd382ad1c0c23dac285904d0979
    }
   ],
   "source": [
    "import numpy as np\n",
    "import pandas as pd\n",
    "from cv2 import imread, resize\n",
    "import os\n",
    "import matplotlib.pyplot as plt\n",
    "from glob import glob\n",
    "\n",
    "%matplotlib inline\n",
    "\n",
    "DATA_DIR = os.path.dirname(os.getcwd()) + \"/data/\"\n",
    "INFECTED = os.path.join(DATA_DIR, \"cell_images\", \"Parasitized\", \"C*.png\")\n",
    "NOT_INFECTED = os.path.join(DATA_DIR, \"cell_images\", \"Uninfected\", \"C*.png\")\n",
    "\n",
    "print(\"Setup all imports and constants\")\n",
    "print(DATA_DIR)\n",
    "print(INFECTED)\n",
    "print(NOT_INFECTED)"
   ]
  },
  {
   "cell_type": "code",
   "execution_count": 17,
   "metadata": {},
   "outputs": [
    {
     "name": "stdout",
     "output_type": "stream",
     "text": [
      "Created image arrays\n",
      "Created labels\n"
     ]
    }
   ],
   "source": [
    "array_maker = lambda x: resize(imread(x), (128, 128))\n",
    "cutoff = 1500\n",
    "infected_arrays = np.array(list(map(array_maker, glob(INFECTED)[:cutoff])))\n",
    "uninfected_arrays = np.array(list(map(array_maker, glob(NOT_INFECTED)[:cutoff])))\n",
    "arrays = np.concatenate((infected_arrays, uninfected_arrays))\n",
    "print(\"Created image arrays\")\n",
    "\n",
    "total_size = len(infected_arrays) + len(uninfected_arrays)\n",
    "infected_labels = np.zeros(total_size)\n",
    "uninfected_labels = np.zeros(total_size)\n",
    "infected_labels[:len(infected_arrays)] = 1\n",
    "uninfected_labels[len(infected_arrays):] = 1\n",
    "labels = np.stack((infected_labels, uninfected_labels), axis=1)\n",
    "print(\"Created labels\")"
   ]
  },
  {
   "cell_type": "code",
   "execution_count": 24,
   "metadata": {},
   "outputs": [],
   "source": [
    "make_file = lambda x: os.path.join(DATA_DIR, x)\n",
    "np.save(make_file(\"image_arrays.npy\"), arrays)\n",
    "np.save(make_file(\"label_arrays.npy\"), labels)\n",
    "del arrays, labels"
   ]
  },
  {
   "cell_type": "code",
   "execution_count": 32,
   "metadata": {},
   "outputs": [
    {
     "name": "stdout",
     "output_type": "stream",
     "text": [
      "GPU available? True\n",
      "CUDA built? True\n"
     ]
    },
    {
     "name": "stderr",
     "output_type": "stream",
     "text": [
      "Using TensorFlow backend.\n"
     ]
    },
    {
     "data": {
      "text/plain": [
       "['/job:localhost/replica:0/task:0/device:GPU:0']"
      ]
     },
     "execution_count": 32,
     "metadata": {},
     "output_type": "execute_result"
    }
   ],
   "source": [
    "import tensorflow as tf\n",
    "\n",
    "print(\"GPU available? \" + str(tf.test.is_gpu_available()))\n",
    "print(\"CUDA built? \" + str(tf.test.is_built_with_cuda()))\n",
    "\n",
    "from keras import backend as K\n",
    "K.tensorflow_backend._get_available_gpus()"
   ]
  },
  {
   "cell_type": "code",
   "execution_count": null,
   "metadata": {},
   "outputs": [],
   "source": []
  }
 ],
 "metadata": {
  "kernelspec": {
   "display_name": "Python 3",
   "language": "python",
   "name": "python3"
  },
  "language_info": {
   "codemirror_mode": {
    "name": "ipython",
    "version": 3
   },
   "file_extension": ".py",
   "mimetype": "text/x-python",
   "name": "python",
   "nbconvert_exporter": "python",
   "pygments_lexer": "ipython3",
   "version": "3.6.9"
  }
 },
 "nbformat": 4,
<<<<<<< HEAD
 "nbformat_minor": 4
}
=======
 "nbformat_minor": 1
}
>>>>>>> aa3f00770d835cd382ad1c0c23dac285904d0979
